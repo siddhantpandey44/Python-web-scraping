{
 "cells": [
  {
   "cell_type": "markdown",
   "id": "a1c68a95-13ff-443d-87c4-03cb8d1c89f4",
   "metadata": {},
   "source": [
    "# Web scraping from Amazon\n",
    "\n",
    "The purpose of this project is to create a function which reads a price of a product from Amazon website daily and data is store in a csv file. Using BeautifulSoup and requests libraries, data from Amazon website is scraped and stored in a csv file using csv library. \n",
    "\n",
    "\n"
   ]
  },
  {
   "cell_type": "code",
   "execution_count": 2,
   "id": "245f5bdd-06e2-4410-95f7-3a3caf278e0b",
   "metadata": {},
   "outputs": [],
   "source": [
    "# loading libraries\n",
    "\n",
    "from bs4 import BeautifulSoup\n",
    "import pandas as pd\n",
    "import requests\n",
    "import datetime\n",
    "import time"
   ]
  },
  {
   "cell_type": "code",
   "execution_count": 3,
   "id": "0b1f3331-491e-482e-8633-e5aed159921e",
   "metadata": {
    "tags": []
   },
   "outputs": [
    {
     "name": "stdout",
     "output_type": "stream",
     "text": [
      "\n",
      "            Google Pixel 6 (5G) 128GB (Canadian Model GB7N6) Unlocked - Stormy Black (Renewed)\n",
      "           \n",
      "\n",
      "                       $683.99\n",
      "                      \n",
      "\n",
      "             21 ratings\n",
      "            \n"
     ]
    }
   ],
   "source": [
    "# connect to AMAZON to pull data\n",
    "\n",
    "headers = {\"User-Agent\": \"Mozilla/5.0 (Windows NT 10.0; Win64; x64) AppleWebKit/537.36 (KHTML, like Gecko) Chrome/100.0.4896.75 Safari/537.36\", \"Accept-Encoding\":\"gzip, deflate\", \"Accept\":\"text/html,application/xhtml+xml,application/xml;q=0.9,*/*;q=0.8\", \"DNT\":\"1\",\"Connection\":\"close\", \"Upgrade-Insecure-Requests\":\"1\"}\n",
    "\n",
    "page = requests.get('https://www.amazon.ca/Google-Pixel-Canadian-GB7N6-Unlocked/dp/B09NP6697R/ref=sr_1_1_sspa?crid=VSFICC3SO0JC&keywords=pixel&qid=1649879576&s=electronics&sprefix=pixel%2Celectronics%2C80&sr=1-1-spons&psc=1&spLa=ZW5jcnlwdGVkUXVhbGlmaWVyPUExSFo5NDhJRVkxSzFKJmVuY3J5cHRlZElkPUEwNzMwNDkwMzdBOEIxTk1PVUgyUSZlbmNyeXB0ZWRBZElkPUEwNzg0MjU5M1QxN0NSU0lKU1NJWSZ3aWRnZXROYW1lPXNwX2F0ZiZhY3Rpb249Y2xpY2tSZWRpcmVjdCZkb05vdExvZ0NsaWNrPXRydWU=', headers=headers)\n",
    "\n",
    "soup = BeautifulSoup(page.text,\"html.parser\")\n",
    "\n",
    "content = BeautifulSoup(soup.prettify(),\"html.parser\")\n",
    "\n",
    "product = content.find(id='productTitle').get_text()\n",
    "\n",
    "price = content.find('span','a-offscreen').get_text()\n",
    "\n",
    "total_reviews = content.find(id='acrCustomerReviewText').get_text()\n",
    "\n",
    "print(product)\n",
    "print(price)\n",
    "print(total_reviews)\n"
   ]
  },
  {
   "cell_type": "code",
   "execution_count": 5,
   "id": "51ff8ab3-a43c-4307-bf6b-f966470c3b0b",
   "metadata": {},
   "outputs": [
    {
     "name": "stdout",
     "output_type": "stream",
     "text": [
      "Name of product: Google Pixel 6 (5G) 128GB (Canadian Model GB7N6) Unlocked - Stormy Black (Renewed)\n",
      "Price: 83.99\n",
      "Total Reviews: 21 ratings\n"
     ]
    }
   ],
   "source": [
    "# Remove Extra spaces\n",
    "\n",
    "price = price.strip()[1:]\n",
    "product = product.strip()\n",
    "total_reviews = total_reviews.strip()\n",
    "\n",
    "print('Name of product:',product)\n",
    "print('Price:',price)\n",
    "print('Total Reviews:',total_reviews)\n"
   ]
  },
  {
   "cell_type": "code",
   "execution_count": 6,
   "id": "cf60079b-52fc-4f8d-bd2e-9113de33fa87",
   "metadata": {},
   "outputs": [
    {
     "name": "stdout",
     "output_type": "stream",
     "text": [
      "2022-04-13\n"
     ]
    }
   ],
   "source": [
    "# Added a timestamp to track when the data was collected\n",
    "collected_date = datetime.date.today()\n",
    "print(collected_date)"
   ]
  },
  {
   "cell_type": "code",
   "execution_count": 7,
   "id": "f76d54fb-c3ff-47a7-912c-1f559ca2c085",
   "metadata": {},
   "outputs": [],
   "source": [
    "# Write the collected data into a csv file\n",
    "\n",
    "import csv\n",
    "header = ['Product','Price','Total Reviews','Collected Date']\n",
    "data = [product,price,total_reviews,collected_date]\n",
    "\n",
    "with open('AmazonWebScraping.csv','w', newline='', encoding='UTF8') as f:\n",
    "    writer = csv.writer(f)\n",
    "    writer.writerow(header)\n",
    "    writer.writerow(data)"
   ]
  },
  {
   "cell_type": "code",
   "execution_count": 8,
   "id": "9900ac3f-33ae-4348-a952-a8e0b62b3afb",
   "metadata": {},
   "outputs": [
    {
     "name": "stdout",
     "output_type": "stream",
     "text": [
      "                                             Product  Price Total Reviews  \\\n",
      "0  Google Pixel 6 (5G) 128GB (Canadian Model GB7N...  83.99    21 ratings   \n",
      "\n",
      "  Collected Date  \n",
      "0     2022-04-13  \n"
     ]
    }
   ],
   "source": [
    "# Creating a dataframe to store the csv file\n",
    "\n",
    "df = pd.read_csv(r'C:\\Python\\AmazonWebScraping.csv')\n",
    "print(df)"
   ]
  },
  {
   "cell_type": "code",
   "execution_count": 9,
   "id": "8da8ddab-af2a-49b2-9f5b-0b80cad81a97",
   "metadata": {},
   "outputs": [],
   "source": [
    "# Appending data to csv file\n",
    "\n",
    "with open('AmazonWebScraping.csv','a+', newline='', encoding='UTF8') as f:\n",
    "    writer = csv.writer(f)\n",
    "    writer.writerow(data)\n"
   ]
  },
  {
   "cell_type": "code",
   "execution_count": 10,
   "id": "7f40c5ac-a801-48ff-aecc-46a3cfe9620e",
   "metadata": {},
   "outputs": [],
   "source": [
    "#Combine all of the above code into one function\n",
    "\n",
    "def webscrape():\n",
    "    \n",
    "    headers = {\"User-Agent\": \"Mozilla/5.0 (Windows NT 10.0; Win64; x64) AppleWebKit/537.36 (KHTML, like Gecko) Chrome/100.0.4896.75 Safari/537.36\", \"Accept-Encoding\":\"gzip, deflate\", \"Accept\":\"text/html,application/xhtml+xml,application/xml;q=0.9,*/*;q=0.8\", \"DNT\":\"1\",\"Connection\":\"close\", \"Upgrade-Insecure-Requests\":\"1\"}\n",
    "\n",
    "    page = requests.get('https://www.amazon.ca/Google-Pixel-Canadian-GB7N6-Unlocked/dp/B09NP6697R/ref=sr_1_1_sspa?crid=VSFICC3SO0JC&keywords=pixel&qid=1649879576&s=electronics&sprefix=pixel%2Celectronics%2C80&sr=1-1-spons&psc=1&spLa=ZW5jcnlwdGVkUXVhbGlmaWVyPUExSFo5NDhJRVkxSzFKJmVuY3J5cHRlZElkPUEwNzMwNDkwMzdBOEIxTk1PVUgyUSZlbmNyeXB0ZWRBZElkPUEwNzg0MjU5M1QxN0NSU0lKU1NJWSZ3aWRnZXROYW1lPXNwX2F0ZiZhY3Rpb249Y2xpY2tSZWRpcmVjdCZkb05vdExvZ0NsaWNrPXRydWU=', headers=headers)\n",
    "\n",
    "    soup = BeautifulSoup(page.text,\"html.parser\")\n",
    "\n",
    "    content = BeautifulSoup(soup.prettify(),\"html.parser\")\n",
    "\n",
    "    product = content.find(id='productTitle').get_text()\n",
    "\n",
    "    price = content.find('span','a-offscreen').get_text()\n",
    "\n",
    "    total_reviews = content.find(id='acrCustomerReviewText').get_text()\n",
    "\n",
    "    collected_date = datetime.date.today()\n",
    "    \n",
    "    import csv\n",
    "    header = ['Product','Price','Total Reviews','Collected Date']\n",
    "    data = [product,price,total_reviews,collected_date]\n",
    "\n",
    "    with open('AmazonWebScraping.csv','a+', newline='', encoding='UTF8') as f:\n",
    "        writer = csv.writer(f)\n",
    "        writer.writerow(data)\n",
    "    "
   ]
  },
  {
   "cell_type": "code",
   "execution_count": null,
   "id": "4c52e42f-f299-4356-8910-d4f09ef81239",
   "metadata": {},
   "outputs": [],
   "source": [
    "# Runs check_price after a set time and inputs data into your CSV\n",
    "\n",
    "while(True):\n",
    "    webscrape()\n",
    "    time.sleep(86400)"
   ]
  },
  {
   "cell_type": "code",
   "execution_count": null,
   "id": "14e4e78b-eec1-4322-a959-f58cdeb91644",
   "metadata": {},
   "outputs": [],
   "source": []
  }
 ],
 "metadata": {
  "kernelspec": {
   "display_name": "Python 3 (ipykernel)",
   "language": "python",
   "name": "python3"
  },
  "language_info": {
   "codemirror_mode": {
    "name": "ipython",
    "version": 3
   },
   "file_extension": ".py",
   "mimetype": "text/x-python",
   "name": "python",
   "nbconvert_exporter": "python",
   "pygments_lexer": "ipython3",
   "version": "3.10.1"
  }
 },
 "nbformat": 4,
 "nbformat_minor": 5
}
